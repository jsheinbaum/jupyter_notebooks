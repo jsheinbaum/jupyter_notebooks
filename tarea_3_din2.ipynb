{
  "cells": [
    {
      "cell_type": "markdown",
      "source": [
        "# TAREA 3 DINÁMICA2\n",
        "\n",
        "<img src=\"/Users/julios/Downloads/tierra.png\">"
      ],
      "metadata": {}
    },
    {
      "cell_type": "markdown",
      "source": [
        "1)Considera la figura de arriba en la que aparecen los vectores $\\hat i,\\hat j,\\hat k$  sobre la superficie de la Tierra y los vectores $\\hat a,\\hat b,\\hat c$, fijos en el centro de la Tierra, con $\\hat a$ apuntando en la dirección del meridiano de Greenwich (longitud 0), $\\hat b, $  $90 ^\\circ$ al Este y  el vector $\\hat c$   paralelo al eje de rotación. El vector $\\hat l$ es perpendicular a $\\hat i$  (dirección zonal) y al eje de rotación de la Tierra."
      ],
      "metadata": {}
    },
    {
      "cell_type": "markdown",
      "source": [
        "El vector $\\hat l$  se escribe como combinación de $\\hat a$ y $\\hat b$ como:\n",
        "\n",
        "$\\hat l = cos(\\lambda) \\hat a + sin(\\lambda) \\hat b $"
      ],
      "metadata": {}
    },
    {
      "cell_type": "markdown",
      "source": [
        "Si $\\hat i$ es perpendicular a $\\hat l$ cómo lo escribes como combinación de $\\hat a$ y $\\hat b$? \n",
        "\n",
        "Usa la figura y muestra que:\n",
        "\n",
        "    \n",
        "\n",
        "$\\hat j =cos(\\phi) \\hat c -sin(\\phi) \\hat l$\n",
        "\n",
        "$\\hat k =sin(\\phi) \\hat c + cos(\\phi) \\hat l$\n",
        "\n",
        "$\\hat l =-sin(\\phi) \\hat j + cos(\\phi) \\hat k$\n",
        "\n",
        "Ahora recuerda que $dx_i=h_idq_i$ entonces muestra\n",
        "\n",
        "$\\overrightarrow{\\bf v} = \\frac{D\\overrightarrow{\\bf r}}{Dt}$\n",
        "\n",
        "$\\overrightarrow{\\bf v}=(u,v,w)=\\frac{D\\overrightarrow{\\bf r}}{Dt}=rcos(\\phi))\\dot{\\lambda}\\hat i+ r\\dot{\\phi} \\hat j + w \\hat k$\n",
        "el punto representa derivada respecto al tiempo.\n",
        "\n",
        "Para calcular la aceleración \n",
        "$ \\frac{D\\overrightarrow{\\bf v}}{Dt}$\n",
        "\n",
        "Tienes que calcular las derivadas de los vectores base\n",
        "usando sus expresiones en el sistema fijo y luego cambiando el resultado al sistema en rotación. Escribe las derivadas temporales de los ángulos por sus expresiones en función de la velocidad.\n",
        "\n",
        "Muestra que \n",
        "\n",
        "$\\frac{D\\hat {i}}{Dt}= (-cos(\\lambda) \\hat a + sin(\\lambda) \\hat b) \\dot{\\lambda}= -\\dot{\\lambda} \\hat l= -\\frac{u}{rcos(\\phi)} \\hat l= -\\frac{u}{rcos(\\phi)}(-sin(\\phi) \\hat j + cos(\\phi) \\hat k)$\n",
        "\n",
        "$\\frac{D\\hat {l}}{Dt}= (-sin(\\lambda) \\hat a + cos(\\lambda) \\hat b) \\dot{\\lambda}= \\dot{\\lambda} \\hat i= \\frac{u}{rcos(\\phi)} \\hat i$\n",
        "\n",
        "\n",
        "$\\frac{D\\hat { j}}{Dt}= (-sin(\\phi) \\hat c + cos(\\phi) \\hat l) \\dot{\\phi}-sin(\\phi)\\frac{D\\hat {l}}{Dt}= -\\dot{\\phi} \\hat k- \\frac{utan(\\phi)}{r} \\hat i=-\\frac{v}{r} \\hat k- \\frac{utan(\\phi)}{r} \\hat i$\n",
        "\n",
        "\n",
        "$\\frac{D\\hat { k}}{Dt}= \\frac{u}{r} \\hat i + \\frac{v}{r} \\hat j$"
      ],
      "metadata": {}
    },
    {
      "cell_type": "markdown",
      "source": [
        "Demuestra que la aceleración $ \\frac{D\\overrightarrow{\\bf v}}{Dt}$ tiene la misma forma que vimos en clase\n",
        "\n",
        "$(\\frac{Du}{Dt}-uv\\frac{tan(\\phi)}{r}+\\frac{uw}{r}) \\hat i +$\n",
        "$(\\frac{Dv}{Dt}+u^2\\frac{tan(\\phi)}{r}+\\frac{uw}{r}) \\hat j +$ $(\\frac{Dw}{Dt}-\\frac{u^2+v^2}{r}) \\hat k$"
      ],
      "metadata": {}
    },
    {
      "cell_type": "markdown",
      "source": [
        "EN LOS SIGUIETES PROBLEMAS IGNORAMOS FUERZAS EXTERNAS O DE FRICCIÓN.\n",
        "\n",
        "El momento angular absoluto por unidad de masas respecto al eje de rotación de la Tierra está dado por la expresión: \n",
        "\n",
        "$m=rcos(\\phi)(u+\\Omega rcos(\\phi))$\n",
        "\n",
        "Expliquen de donde sale está fórmula y demuestren que\n",
        "\n",
        "$\\frac{Dm}{Dt}=-\\frac{1}{\\rho}\\frac{\\partial p}{\\partial \\lambda}$\n",
        "\n",
        "usando las ecuaciones completas del sistema en rotación (es decir sin ninguna aproximación, deben calcular términos de Coriolis, gradiente de presión y añadirlos a las expresiones anteriores de las aceleraciones (ver las notas de clase o Vallis por si tienen dudas)\n",
        "\n",
        "Qué sucede con la ecuación de momento angular si eliminan sólo el término con $uw/r$ en la ecuación para la velocidad zonal usando argumentos de que $w$ es pequeña y el término es pequeño respecto a los otros? Si hacen eso qué término deben quitar también para que la ecuación de momento angular se siga satisfaciendo? Explicar.\n",
        "\n",
        "Demuestren que la ecuación para la energía cinética por unidad de masa  $K=\\frac{1}{2}\\overrightarrow{\\bf v} \\cdot \\overrightarrow{\\bf v} $está dada por\n",
        "\n",
        "$\\frac{DK}{Dt}= -\\frac{1}{\\rho}\\overrightarrow{\\bf v} \\cdot {\\nabla p} -gw$\n",
        "\n",
        "Como discutimos en clase si desprecian términos de que contienen $w$ en las ecuaciones, qué términos deben eliminar para que se siga satisfaciendo la ecuación de energía cinética?"
      ],
      "metadata": {}
    },
    {
      "cell_type": "markdown",
      "source": [
        "Demuestren  las expresiones siguientes para la divergencia y el rotacional en coordenadas generalizadas\n",
        "\n",
        "\n",
        "<img src=\"/Users/julios/Downloads/divcurl.png\">"
      ],
      "metadata": {}
    },
    {
      "cell_type": "code",
      "source": [],
      "outputs": [],
      "execution_count": null,
      "metadata": {
        "collapsed": false,
        "outputHidden": false,
        "inputHidden": false
      }
    }
  ],
  "metadata": {
    "kernel_info": {
      "name": "python3"
    },
    "language_info": {
      "name": "python",
      "version": "3.6.7",
      "mimetype": "text/x-python",
      "codemirror_mode": {
        "name": "ipython",
        "version": 3
      },
      "pygments_lexer": "ipython3",
      "nbconvert_exporter": "python",
      "file_extension": ".py"
    },
    "kernelspec": {
      "name": "python3",
      "language": "python",
      "display_name": "Python 3"
    },
    "nteract": {
      "version": "0.14.3"
    }
  },
  "nbformat": 4,
  "nbformat_minor": 0
}