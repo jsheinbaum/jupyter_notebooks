{
 "cells": [
  {
   "cell_type": "markdown",
   "metadata": {
    "inputHidden": false,
    "outputHidden": false
   },
   "source": [
    "**TAREA 2 DINÁMICA 2**\n",
    "\n",
    "1)Problema para nunca olvidar cálculo en coordenadas generalizadas!\n",
    "\n",
    "Las coordenadas oblato-esferoidales $\\mu,\\psi,\\lambda$ se definen de la siguiente forma\n",
    "$$x=(c^2 + \\mu ^2)^{1/2} cos\\psi cos\\lambda$$\n",
    "$$y=(c^2 + \\mu ^2)^{1/2} cos \\psi sin \\lambda$$\n",
    "$$z=\\mu sin\\psi$$\n",
    "\n",
    "Escribir las ecuaciones de movimiento en dichas coordenadas. Recuerden deben calcular el Jacobiano de la transformación, los factores de escala $h_{\\mu},h_{\\psi},h_{\\lambda}$y los vectores base  ${\\bf e_{\\mu},e_{\\psi},e_{\\lambda}}$. Deben calcular el gradiente en estas coordenadas. Además deberán calcular las derivadas de estos vectores base respecto a las coordenadas $\\mu,\\psi,\\lambda$ y expresarlos en función de las coordenadas y los mismos vectores base, por ejemplo, deben obtener que $\\frac{\\partial}{\\partial \\lambda}{\\bf e_{\\lambda}}=\\frac{B}{A}sin \\psi {\\bf e_{\\psi}}-\\frac{\\mu}{A} cos \\psi {\\bf e_{\\mu}}$ donde $A=(c^2 sin^2 \\psi+ \\mu ^2)^{1/2}$ y $B=(c^2 + \\mu ^2)^{1/2}$. Al calcular la derivada de $\\frac{\\partial}{\\partial \\mu}{\\bf e_{\\mu}}$ y $\\frac{\\partial}{\\partial \\mu}{\\bf e_{\\psi}}$ les puede ser de utilidad definir $C=\\frac{c^2 sin \\psi cos \\psi}{BA^2}$. Para calcular las componentes de la derivada material deben hacer el producto escalar (punto) de la derivada material  con cada vector de la base ${\\bf e_{\\psi,\\lambda,\\mu}} \\circ \\frac{D \\vec{u}}{Dt}$. Tienen que usar el gradiente en estas coordenadas para expresar la derivada material. Recuerden (como en ccordenadas esféricas) usar la derivada del producto (o integración por partes) para separar la derivada material de cada componente de los términos geométricos. Deberán calcular el término de Coriolis $2 \\Omega \\times \\vec{u}$ y cada una de sus componentes  $(2 \\Omega \\times \\vec{u}) \\circ {\\bf e_{\\psi,\\lambda,\\mu}}$ y gradiente de presión."
   ]
  },
  {
   "cell_type": "markdown",
   "metadata": {},
   "source": [
    "2)Obtener la ecuación cuasi-geostrófica de vorticidad potencial a calculando la ecuación de vorticidad a partir de las ecuaciones primitivas y aplicando escalamiento cuasi-geostrófico es decir $\\vec u = \\vec u_{g} + \\vec u_{a} $ con parte ageostrófica $\\vec u_{a} $ mucho menor que $\\vec u_{g} $ (orden número de Rossby $R_{o} << 1$) velocidad vertical pequeña y relacinada con divergencia horizontal de la parte ageostrófica, $f=f_{0} + \\beta y$ con $\\beta y$ mucho menor que $f_{0}$. Observen que $\\zeta_g/f_0$  donde $\\zeta_g $ es la vorticidad relativa geostrófica es orden $R_{o} << 1$. Usar entonces mismos escalamientos en la ecuación para la flotabilidad o ecuación termodinámica para eliminar la derivada vertical de la velocidad vertical."
   ]
  },
  {
   "cell_type": "markdown",
   "metadata": {},
   "source": [
    "3)Investiguen y deriven la llamada ecuación Omega. Idea es seguir el mismo proceso que en la derivación de la ecuación cuasi-geostrófica de vorticidad potencial, pero en lugar de sustituir a la derivada de la velocidad vertical, se eliminen las derivadas parciales respecto al tiempo de la vorticidad y la flotabilidad usando las ecuaciones de viento térmico que dan lugar a que $f_{0} \\frac{\\partial}{\\partial z} (\\frac {\\partial \\zeta_{g}}{\\partial t}) = \\nabla_{h} ^{2} (\\frac {\\partial b}{\\partial t})$ donde el Laplaciano es el Laplaciano horizontal.  Esto lleva a obtener una ecuación diagnóstica para la velocidad vertical llamada ecuación Omega (nombre viene de que a la velocidad vertical usando a la presión como coordenada vertical se le denomina omega)."
   ]
  },
  {
   "cell_type": "markdown",
   "metadata": {},
   "source": []
  }
 ],
 "metadata": {
  "kernel_info": {
   "name": "python2"
  },
  "kernelspec": {
   "display_name": "Python 2",
   "language": "python",
   "name": "python2"
  },
  "language_info": {
   "codemirror_mode": {
    "name": "ipython",
    "version": 2
   },
   "file_extension": ".py",
   "mimetype": "text/x-python",
   "name": "python",
   "nbconvert_exporter": "python",
   "pygments_lexer": "ipython2",
   "version": "2.7.14"
  }
 },
 "nbformat": 4,
 "nbformat_minor": 4
}
