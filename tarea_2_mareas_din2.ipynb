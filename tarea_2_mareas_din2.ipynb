{
  "cells": [
    {
      "cell_type": "markdown",
      "source": [
        "# TAREA 2 MAREA\n",
        "\n",
        "1)Respondan las siguientes preguntas relacionadas con el script **kelvin_canal_rectangular.m**.\n",
        "\n",
        "1.a)Qué ecuaciones satisface la solución que se grafica en el script?(mostrar analíticamente que lo graficado es solución de dichas ecuaciones).\n",
        "\n",
        "1.b)Cómo varía dicha solución en el tiempo? Qué relación tiene con la solución de la forma\n",
        "\n",
        "$$\\eta = \\eta_0^i cos(k(x-ct))e^{-y/a}  + \\eta_0^r cos(k(x+ct))e^{-(L-y)/a}$$\n",
        "\n",
        "donde $a=c/f$  es el radio de deformación de Rossby cuando fricción es nula y fronteras están en y=0,L? (Ojo: en programa ancho del canal es 2a y el cero está  a la mitad del canal)\n",
        "\n\n",
        "1.c)Modificar el programa y graficar vector velocidad asociado a la solución para $\\eta$ que se da en el script. \n"
      ],
      "metadata": {}
    },
    {
      "cell_type": "markdown",
      "source": [
        "\n",
        "2)Consideren un canal con un ancho de 800 km, 100 m de profundidad y a una latitud\n",
        "de $20^\\circ N$  \n",
        "\n",
        "2.a)Cuántas ondas de Poincaré correspondientes al modo barotróopico y a la\n",
        "frecuencia M2 pueden propagarse por dicho canal? Justifiquen su repuesta. \n",
        "\n",
        "2.b)Cuál es la longitud de onda de dicha(s) onda(s)? Encuentren la escala de decaimiento de los dos primeros modos evanescentes de Poincaré en dicho canal.\n",
        "\n",
        "2.c)Grafiquen una solución consistente en las ondas Kelvin de dicho canal mas las de Poincare que hayan encontrado en el inciso 2.a.\n",
        "\n\n\n"
      ],
      "metadata": {}
    },
    {
      "cell_type": "markdown",
      "source": [
        "3)Leer el artículo de Hendershott y Speranza y explicar por qué las marea en el Golfo de California y la del Adriático son diferentes. Discutir/Investigar lo que se explica en los apéndices.\n"
      ],
      "metadata": {}
    },
    {
      "cell_type": "markdown",
      "source": [],
      "metadata": {}
    }
  ],
  "metadata": {
    "kernelspec": {
      "name": "python2",
      "language": "python",
      "display_name": "Python 2"
    },
    "language_info": {
      "mimetype": "text/x-python",
      "nbconvert_exporter": "python",
      "name": "python",
      "pygments_lexer": "ipython2",
      "version": "2.7.13",
      "file_extension": ".py",
      "codemirror_mode": {
        "version": 2,
        "name": "ipython"
      }
    },
    "kernel_info": {
      "name": "python2"
    }
  },
  "nbformat": 4,
  "nbformat_minor": 0
}