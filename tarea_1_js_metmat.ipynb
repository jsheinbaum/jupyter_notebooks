{
  "cells": [
    {
      "cell_type": "markdown",
      "source": [
        "**TAREA MÉTODOS MATEMÁTICOS**"
      ],
      "metadata": {
        "collapsed": false,
        "outputHidden": false,
        "inputHidden": false,
        "outputExpanded": false
      }
    },
    {
      "cell_type": "markdown",
      "source": [
        "1)Expresa el vector   \n",
        "$$\\bf v=\\begin{bmatrix}3 \\\\\\ -2 \\end{bmatrix}$$\n",
        "\n",
        "como combinación lineal de los vectores \n",
        "\n",
        "$${\\bf e_1=} \\begin{bmatrix}1 \\\\\\ 0 \\end{bmatrix}$$  $${\\bf e_2=} \\begin{bmatrix} 1 \\\\\\ 0.5 \\end{bmatrix}$$\n",
        "\n",
        "y de los vectores\n",
        "\n",
        "$${\\bf e_1=} \\begin{bmatrix}1 \\\\\\ \\sqrt(2) \\end{bmatrix}$$  \n",
        "$${\\bf e_2=} \\begin{bmatrix} -\\sqrt(2) \\\\\\ 1 \\end{bmatrix}$$\n",
        "\n"
      ],
      "metadata": {}
    },
    {
      "cell_type": "markdown",
      "source": [
        "2)Obtener las dimensiones de los 4 espacios asociados a esta matriz?\n",
        "\n\n",
        "$$\\begin{pmatrix}3 & -1 & 0\\\\\\ -2 & 2 & -1 \\\\\\ -1 & -1 & 1 \\end{pmatrix}$$\n",
        "\n\n"
      ],
      "metadata": {}
    },
    {
      "cell_type": "markdown",
      "source": [
        "3)En diferencias finitas la ecuación $-\\frac{d^2 u}{dx^2}=f$, se discretiza usando diferencias centradas como $u_{i+1} -2u_i - u_{i-1}=\\delta x^2 f_i$,  con $i=1,2..,n$ \n",
        "\n",
        "Consideren 5 puntos $i=1,2..,5$ y escriban en forma matricial la ecuación en diferencias finitas considerando (condiciones de frontera!):\n",
        "\n\n",
        "a)$u_0=0,u_6=0$\n",
        "\n",
        "b)$u_1-u_0=0;u_6 - u_5=0$\n",
        "\n",
        "Analicen las matrices resultantes (por ejemplo tienen inversa?,svd,etc)\n",
        "\n",
        "Mutiplicar la matrices resultantes por el vector \n",
        "$${\\bf e=} \\begin{bmatrix} 1 \\\\\\ 1 \\\\\\1 \\\\\\1 \\\\\\1 \\end{bmatrix}$$\n",
        "\n",
        "Cómo interpretan el resultado obtenido; \n",
        "\nResuelvan el caso que $\\vec{f}=\\vec1$ (i.e. puros unos)"
      ],
      "metadata": {}
    },
    {
      "cell_type": "markdown",
      "source": [
        "4)Las siguientes matrices aparecen de discretizar $-\\frac{d^2 u}{dx^2}$\n",
        "cambiando \"condiciones de frontera\" \n",
        "\n",
        "Crear con matlab (se supone que n>1)\n",
        "\n",
        "function [A,K,T,B,C] = AKTBC(n)\n",
        "\n",
        "%%%%\n",
        "\n",
        "K = toeplitz ([2 -1 zeros(1,n-2)]);\n",
        "\n",
        "Τ = K; Т(1,1) = 1;\n",
        "\n",
        "В = K; В(1,1) = 1; В(n,n) = 1;\n",
        "\n",
        "С = K; С(1,n) = -1; С(n,1) = -1;\n",
        "\n",
        "A=toeplitz([1 -1 zeros(1,n-2)],[1 zeros(1,n-2)]);\n",
        "\n",
        "%%%%%%\n",
        "\n",
        "Hagan n=20 y calculen\n",
        "\n",
        "[U,S,V]=svd(matrices K,T,B,C);\n",
        "\n",
        "Cómo son las matrices U y V ?\n",
        "\n",
        "grafiquen valores singulares, los 5 primeros  y 5 últimos vectores (columnas)\n",
        "\n",
        "Hagan [U,S,V]=svd(A);\n",
        "\n",
        "qué relación hay entre las matrices $A*A^t$ y $A^t*A$ y alguna(s) de las otras K,B,T,C\n",
        "\nRelación con solución analítica?? (Lo estaremos viendo!)"
      ],
      "metadata": {}
    },
    {
      "cell_type": "markdown",
      "source": [
        "5)Muestren que \n",
        "\n",
        "$$A=USV^t=\\Sigma_{i=1}^p \\vec u_is_i\\vec v_i^t$$\n",
        "\nHay muchas formas de verlo! háganlo y convénzanse!!"
      ],
      "metadata": {}
    },
    {
      "cell_type": "markdown",
      "source": [],
      "metadata": {}
    }
  ],
  "metadata": {
    "kernelspec": {
      "name": "python3",
      "language": "python",
      "display_name": "Python 3"
    },
    "kernel_info": {
      "name": "python3"
    },
    "language_info": {
      "name": "python",
      "version": "3.6.2",
      "mimetype": "text/x-python",
      "codemirror_mode": {
        "name": "ipython",
        "version": 3
      },
      "pygments_lexer": "ipython3",
      "nbconvert_exporter": "python",
      "file_extension": ".py"
    },
    "nteract": {
      "version": "0.2.0"
    }
  },
  "nbformat": 4,
  "nbformat_minor": 4
}