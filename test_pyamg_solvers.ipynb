{
 "cells": [
  {
   "cell_type": "code",
   "execution_count": 2,
   "metadata": {},
   "outputs": [],
   "source": [
    "import scipy\n",
    "import numpy\n",
    "import pyamg\n",
    "import pylab"
   ]
  },
  {
   "cell_type": "code",
   "execution_count": 4,
   "metadata": {},
   "outputs": [],
   "source": [
    "stencil = [ [-1,-1,-1],[-1,8,-1],[-1,-1,-1] ]\n",
    "A = pyamg.gallery.stencil_grid(stencil, (1000,1000), dtype=float, format='csr')"
   ]
  },
  {
   "cell_type": "code",
   "execution_count": 6,
   "metadata": {},
   "outputs": [
    {
     "data": {
      "text/plain": [
       "<1000000x1000000 sparse matrix of type '<class 'numpy.float64'>'\n",
       "\twith 8988004 stored elements in Compressed Sparse Column format>"
      ]
     },
     "execution_count": 6,
     "metadata": {},
     "output_type": "execute_result"
    }
   ],
   "source": [
    "A.nnz       # Number of nonzeros\n",
    "A.shape     # Matrix dimensions\n",
    "A.tocsr()   # Return A in Compressed Sparse Row (CSR)\n",
    "A.tocsc()   # Return A in Compressed Sparse Column (CSC)\n",
    "A.tocoo()   # Return A in Coordinate (COO) format\n",
    "A.T         # Return the transpose of A"
   ]
  },
  {
   "cell_type": "code",
   "execution_count": 7,
   "metadata": {},
   "outputs": [],
   "source": [
    "Agg = pyamg.aggregation.standard_aggregation(A)"
   ]
  },
  {
   "cell_type": "code",
   "execution_count": 8,
   "metadata": {},
   "outputs": [],
   "source": [
    "B = numpy.ones((A.shape[0],1))\n",
    "ml = pyamg.smoothed_aggregation_solver(A,B,max_coarse=10)"
   ]
  },
  {
   "cell_type": "code",
   "execution_count": 9,
   "metadata": {},
   "outputs": [
    {
     "name": "stdout",
     "output_type": "stream",
     "text": [
      "multilevel_solver\n",
      "Number of Levels:     7\n",
      "Operator Complexity:  1.125\n",
      "Grid Complexity:      1.126\n",
      "Coarse Solver:        'pinv2'\n",
      "  level   unknowns     nonzeros\n",
      "    0      1000000      8988004 [88.87%]\n",
      "    1       111556      1000000 [ 9.89%]\n",
      "    2        12544       111556 [ 1.10%]\n",
      "    3         1444        12544 [ 0.12%]\n",
      "    4          169         1369 [ 0.01%]\n",
      "    5           25          169 [ 0.00%]\n",
      "    6            4           16 [ 0.00%]\n",
      "\n"
     ]
    }
   ],
   "source": [
    "print(ml)"
   ]
  },
  {
   "cell_type": "code",
   "execution_count": 10,
   "metadata": {},
   "outputs": [],
   "source": [
    "residuals=[]\n",
    "b = scipy.rand(A.shape[0],1)\n",
    "x0 = scipy.rand(A.shape[0],1)"
   ]
  },
  {
   "cell_type": "code",
   "execution_count": 12,
   "metadata": {},
   "outputs": [],
   "source": [
    "#solve!\n",
    "x = ml.solve(b=b,x0=x0,tol=1e-10,residuals=residuals)"
   ]
  },
  {
   "cell_type": "code",
   "execution_count": 13,
   "metadata": {},
   "outputs": [
    {
     "data": {
      "text/plain": [
       "0.15102563220860815"
      ]
     },
     "execution_count": 13,
     "metadata": {},
     "output_type": "execute_result"
    }
   ],
   "source": [
    "(residuals[-1]/residuals[0])**(1.0/len(residuals))"
   ]
  },
  {
   "cell_type": "code",
   "execution_count": 14,
   "metadata": {},
   "outputs": [],
   "source": [
    "x = ml.solve(b=b,x0=x0,tol=1e-10,residuals=residuals,accel='cg')"
   ]
  },
  {
   "cell_type": "code",
   "execution_count": 16,
   "metadata": {},
   "outputs": [
    {
     "data": {
      "text/plain": [
       "0.051190592709381554"
      ]
     },
     "execution_count": 16,
     "metadata": {},
     "output_type": "execute_result"
    }
   ],
   "source": [
    "(residuals[-1]/residuals[0])**(1.0/len(residuals))"
   ]
  },
  {
   "cell_type": "code",
   "execution_count": 17,
   "metadata": {},
   "outputs": [
    {
     "data": {
      "image/png": "[encoded data removed]",
      "text/plain": [
       "<Figure size 432x288 with 1 Axes>"
      ]
     },
     "metadata": {
      "needs_background": "light"
     },
     "output_type": "display_data"
    }
   ],
   "source": [
    "pylab.semilogy(residuals/residuals[0],'o-')\n",
    "pylab.xlabel('iterations')\n",
    "pylab.ylabel('normalized residual')\n",
    "pylab.show()"
   ]
  },
  {
   "cell_type": "code",
   "execution_count": 21,
   "metadata": {},
   "outputs": [
    {
     "name": "stderr",
     "output_type": "stream",
     "text": [
      "/Users/julios/anaconda3/anaconda/lib/python3.6/site-packages/pyamg/gallery/stencil.py:114: FutureWarning: Using a non-tuple sequence for multidimensional indexing is deprecated; use `arr[tuple(seq)]` instead of `arr[seq]`. In the future this will be interpreted as an array index, `arr[np.array(seq)]`, which will result either in an error or a different result.\n",
      "  diag[s] = 0\n"
     ]
    },
    {
     "name": "stdout",
     "output_type": "stream",
     "text": [
      "multilevel_solver\n",
      "Number of Levels:     7\n",
      "Operator Complexity:  1.125\n",
      "Grid Complexity:      1.126\n",
      "Coarse Solver:        'pinv2'\n",
      "  level   unknowns     nonzeros\n",
      "    0      1000000      8988004 [88.87%]\n",
      "    1       111556      1000000 [ 9.89%]\n",
      "    2        12544       111556 [ 1.10%]\n",
      "    3         1444        12544 [ 0.12%]\n",
      "    4          169         1369 [ 0.01%]\n",
      "    5           25          169 [ 0.00%]\n",
      "    6            4           16 [ 0.00%]\n",
      "\n"
     ]
    },
    {
     "name": "stderr",
     "output_type": "stream",
     "text": [
      "/Users/julios/anaconda3/anaconda/lib/python3.6/site-packages/numpy/matrixlib/defmatrix.py:68: PendingDeprecationWarning: the matrix subclass is not the recommended way to represent matrices or deal with linear algebra (see https://docs.scipy.org/doc/numpy/user/numpy-for-matlab-users.html). Please adjust your code to use regular ndarray.\n",
      "  return matrix(data, dtype=dtype, copy=False)\n"
     ]
    },
    {
     "data": {
      "image/png": "[encoded data removed]",
      "text/plain": [
       "<Figure size 432x288 with 1 Axes>"
      ]
     },
     "metadata": {
      "needs_background": "light"
     },
     "output_type": "display_data"
    }
   ],
   "source": [
    "import scipy\n",
    "import numpy\n",
    "import pyamg\n",
    "import pylab\n",
    "stencil = [ [-1,-1,-1],[-1,8,-1],[-1,-1,-1] ]\n",
    "A = pyamg.gallery.stencil_grid(stencil, (1000,1000), dtype=float, format='csr')\n",
    "B = numpy.ones((A.shape[0],1))\n",
    "ml = pyamg.smoothed_aggregation_solver(A,B,max_coarse=10)\n",
    "print(ml)\n",
    "residuals=[]\n",
    "b = scipy.rand(A.shape[0],1)\n",
    "x0 = scipy.rand(A.shape[0],1)\n",
    "x = ml.solve(b=b,x0=x0,tol=1e-10,residuals=residuals)\n",
    "(residuals[-1]/residuals[0])**(1.0/len(residuals))\n",
    "x = ml.solve(b=b,x0=x0,tol=1e-10,residuals=residuals,accel='cg')\n",
    "(residuals[-1]/residuals[0])**(1.0/len(residuals))\n",
    "pylab.semilogy(residuals/residuals[0],'o-')\n",
    "pylab.xlabel('iterations')\n",
    "pylab.ylabel('normalized residual')\n",
    "pylab.show()"
   ]
  },
  {
   "cell_type": "code",
   "execution_count": null,
   "metadata": {},
   "outputs": [],
   "source": []
  }
 ],
 "metadata": {
  "kernelspec": {
   "display_name": "Python [conda root]",
   "language": "python",
   "name": "conda-root-py"
  },
  "language_info": {
   "codemirror_mode": {
    "name": "ipython",
    "version": 3
   },
   "file_extension": ".py",
   "mimetype": "text/x-python",
   "name": "python",
   "nbconvert_exporter": "python",
   "pygments_lexer": "ipython3",
   "version": "3.6.6"
  }
 },
 "nbformat": 4,
 "nbformat_minor": 2
}
