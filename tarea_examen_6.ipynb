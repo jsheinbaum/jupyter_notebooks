{
  "cells": [
    {
      "cell_type": "markdown",
      "source": [
        "**EXAMEN-TAREA-6** Entrega viernes 4 de agosoto 2017"
      ],
      "metadata": {
        "collapsed": false,
        "outputHidden": false,
        "inputHidden": false,
        "outputExpanded": true
      }
    },
    {
      "cell_type": "markdown",
      "source": [
        "1)Utilicen los programas de matlab: rossby_waves_basin_gfd2_2017_post.m (requiere subrutina gauss.m, todo en nimbus) que resuleve el problema de ajuste a la solución de Stommel. Expliquen (ojo!, hay que explicar no nada más decir lo que pasa..)lo que pasa al correr el programa haciendo (por separado!) los siguientes casos:\n",
        "\n",
        "$\\beta=0$\\\n",
        "$\\beta=-1$\\\n",
        "$r=0.01$\\\n",
        "$r=0.1$\n"
      ],
      "metadata": {}
    },
    {
      "cell_type": "markdown",
      "source": [
        "2)Leer secciones 16.4.2--16.4.4 de libro de Vallis que trata sobre el modelo de dos capas para la termoclina ventilada y contestar lo siguiente:\n",
        "\n",
        "    a)Cómo las condiciones en la latitud de afloramiento (\"outcrop\") $y_2$, en la que $h_1 = 0$, la conservación de vorticidad potencial y el balance de Sverdrup permiten encontrar una ecuación para $h=h_1 + h_2$ (Ec. 16.64)?\n",
        "\n",
        "    b)Qué es la zona de sombra (shadow zone)\n",
        "\n    c)Qué es la región denominada \"alberca del oeste\" (western pool) cómo se forma?"
      ],
      "metadata": {}
    },
    {
      "cell_type": "markdown",
      "source": [],
      "metadata": {}
    },
    {
      "cell_type": "markdown",
      "source": [],
      "metadata": {}
    }
  ],
  "metadata": {
    "kernelspec": {
      "name": "python2",
      "language": "python",
      "display_name": "Python 2"
    },
    "kernel_info": {
      "name": "python2"
    },
    "language_info": {
      "mimetype": "text/x-python",
      "nbconvert_exporter": "python",
      "name": "python",
      "pygments_lexer": "ipython2",
      "version": "2.7.13",
      "file_extension": ".py",
      "codemirror_mode": {
        "version": 2,
        "name": "ipython"
      }
    }
  },
  "nbformat": 4,
  "nbformat_minor": 4
}